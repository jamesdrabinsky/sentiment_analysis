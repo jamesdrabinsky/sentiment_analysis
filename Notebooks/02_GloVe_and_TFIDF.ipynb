{
 "cells": [
  {
   "cell_type": "markdown",
   "metadata": {},
   "source": [
    "### Import Modules"
   ]
  },
  {
   "cell_type": "code",
   "execution_count": 1,
   "metadata": {},
   "outputs": [
    {
     "name": "stderr",
     "output_type": "stream",
     "text": [
      "/anaconda3/lib/python3.6/site-packages/sklearn/ensemble/weight_boosting.py:29: DeprecationWarning: numpy.core.umath_tests is an internal NumPy module and should not be imported. It will be removed in a future NumPy release.\n",
      "  from numpy.core.umath_tests import inner1d\n",
      "/anaconda3/lib/python3.6/site-packages/sklearn/cross_validation.py:41: DeprecationWarning: This module was deprecated in version 0.18 in favor of the model_selection module into which all the refactored classes and functions are moved. Also note that the interface of the new CV iterators are different from that of this module. This module will be removed in 0.20.\n",
      "  \"This module will be removed in 0.20.\", DeprecationWarning)\n"
     ]
    }
   ],
   "source": [
    "import matplotlib.pyplot as plt\n",
    "import seaborn as sns\n",
    "import pandas as pd\n",
    "import numpy as np\n",
    "import struct \n",
    "from tabulate import tabulate\n",
    "\n",
    "%matplotlib inline\n",
    "\n",
    "from gensim.models.word2vec import Word2Vec\n",
    "\n",
    "from collections import Counter, defaultdict\n",
    "\n",
    "import pickle\n",
    "\n",
    "from sklearn.linear_model import LogisticRegression\n",
    "from sklearn.decomposition import TruncatedSVD, NMF\n",
    "from sklearn.ensemble import ExtraTreesClassifier, \\\n",
    "RandomForestClassifier, AdaBoostClassifier, BaggingClassifier, GradientBoostingClassifier\n",
    "from sklearn.naive_bayes import BernoulliNB\n",
    "from sklearn.feature_extraction.text import CountVectorizer, TfidfVectorizer\n",
    "from sklearn.preprocessing import StandardScaler\n",
    "from sklearn.pipeline import Pipeline\n",
    "from sklearn.model_selection import GridSearchCV\n",
    "from sklearn.metrics import accuracy_score, confusion_matrix, classification_report\n",
    "from sklearn.cross_validation import cross_val_score, train_test_split, StratifiedShuffleSplit\n",
    "\n",
    "import warnings\n",
    "warnings.filterwarnings('ignore')"
   ]
  },
  {
   "cell_type": "markdown",
   "metadata": {},
   "source": [
    "I want to see whether word embeddings can improve text classification accuracy.  Word embeddings map semantic meaning into a geometric space.  This means that they associate a numeric vector to every word in a dictionary. The distance between any two vectors captures part of the semantic relationshup between the two associated words.  I am using a 300-dimensional GloVe embedding of 400k words computed on a 2014 dump of English Wikipedia.  I think training my models on this pretrained word embedding will yield good results because it represents a larger vector space than my original dataset. \n",
    "\n",
    "In this notebook, I compute a document embedding by taking the component-wise mean of its component word embeddings. This method for implementing a pre-trained word embedding was motivated by [this blog post on text classification](http://nadbordrozd.github.io/blog/2016/05/20/text-classification-with-word2vec/)."
   ]
  },
  {
   "cell_type": "markdown",
   "metadata": {},
   "source": [
    "### Import Clean DataFrame"
   ]
  },
  {
   "cell_type": "code",
   "execution_count": 2,
   "metadata": {
    "collapsed": true
   },
   "outputs": [],
   "source": [
    "with open('../Data/df_train.pkl', 'rb') as f:\n",
    "    df_train = pickle.load(f)"
   ]
  },
  {
   "cell_type": "code",
   "execution_count": 3,
   "metadata": {},
   "outputs": [
    {
     "data": {
      "text/plain": [
       "(24904, 4)"
      ]
     },
     "execution_count": 3,
     "metadata": {},
     "output_type": "execute_result"
    }
   ],
   "source": [
    "df_train.shape"
   ]
  },
  {
   "cell_type": "markdown",
   "metadata": {},
   "source": [
    "### Import Stop Words List"
   ]
  },
  {
   "cell_type": "code",
   "execution_count": 4,
   "metadata": {
    "collapsed": true
   },
   "outputs": [],
   "source": [
    "with open('../Data/stop_word_list.pkl', 'rb') as f:\n",
    "    stop_word_list = pickle.load(f)"
   ]
  },
  {
   "cell_type": "markdown",
   "metadata": {},
   "source": [
    "### Import Pre-trained Word Embedding"
   ]
  },
  {
   "cell_type": "code",
   "execution_count": 5,
   "metadata": {
    "collapsed": true
   },
   "outputs": [],
   "source": [
    "GLOVE_6B_300D_PATH = \"../Pretrained_Models//glove.6B/glove.6B.300d.txt\"\n",
    "encoding= \"utf-8\""
   ]
  },
  {
   "cell_type": "markdown",
   "metadata": {},
   "source": [
    "# GloVe Word Embedding "
   ]
  },
  {
   "cell_type": "markdown",
   "metadata": {},
   "source": [
    "Prepare word embedding by loading it into python."
   ]
  },
  {
   "cell_type": "code",
   "execution_count": 7,
   "metadata": {},
   "outputs": [],
   "source": [
    "with open(GLOVE_6B_300D_PATH, \"rb\") as lines:\n",
    "    wvec = {line.split()[0].decode(encoding): np.array(line.split()[1:],dtype=np.float32)\n",
    "               for line in lines}"
   ]
  },
  {
   "cell_type": "markdown",
   "metadata": {},
   "source": [
    "Create a generator to confirm that the embedding is set up properly.  This generator will iterate through each word and its associated vector within the GloVe word embedding."
   ]
  },
  {
   "cell_type": "code",
   "execution_count": 8,
   "metadata": {
    "collapsed": true
   },
   "outputs": [],
   "source": [
    "def gen(wvec):\n",
    "    for k,v in wvec.items():\n",
    "        yield k,v\n",
    "\n",
    "item = gen(wvec)"
   ]
  },
  {
   "cell_type": "code",
   "execution_count": 9,
   "metadata": {
    "collapsed": true
   },
   "outputs": [],
   "source": [
    "# next(item)"
   ]
  },
  {
   "cell_type": "markdown",
   "metadata": {},
   "source": [
    "Replace the 'neg' and 'pos' labels in my dataframe with 1s and 0s in preparation for modeling."
   ]
  },
  {
   "cell_type": "code",
   "execution_count": 10,
   "metadata": {
    "collapsed": true
   },
   "outputs": [],
   "source": [
    "df_train.replace({'pos': 1, 'neg': 0}, inplace=True)"
   ]
  },
  {
   "cell_type": "code",
   "execution_count": 11,
   "metadata": {
    "collapsed": true
   },
   "outputs": [],
   "source": [
    "X = df_train.review.map(lambda x: x.split()).tolist()\n",
    "X = df_train.review.tolist()\n",
    "y = df_train.label.tolist()"
   ]
  },
  {
   "cell_type": "code",
   "execution_count": 12,
   "metadata": {
    "collapsed": true
   },
   "outputs": [],
   "source": [
    "X_words = [y.split() for y in X]"
   ]
  },
  {
   "cell_type": "markdown",
   "metadata": {},
   "source": [
    "This reads the glove files line by line and only saves vectors that correspond to words from my original data set."
   ]
  },
  {
   "cell_type": "code",
   "execution_count": 13,
   "metadata": {
    "collapsed": true
   },
   "outputs": [],
   "source": [
    "glove = {}\n",
    "all_words = set(w for words in X_words for w in words)\n",
    "with open(GLOVE_6B_300D_PATH, \"rb\") as infile:\n",
    "    for line in infile:\n",
    "        parts = line.split()\n",
    "        word = parts[0].decode(encoding)\n",
    "        if (word in all_words):\n",
    "            nums=np.array(parts[1:], dtype=np.float32)\n",
    "            glove[word] = nums"
   ]
  },
  {
   "cell_type": "code",
   "execution_count": 14,
   "metadata": {},
   "outputs": [
    {
     "name": "stdout",
     "output_type": "stream",
     "text": [
      "73241\n"
     ]
    }
   ],
   "source": [
    "print(len(all_words))"
   ]
  },
  {
   "cell_type": "code",
   "execution_count": 15,
   "metadata": {
    "collapsed": true
   },
   "outputs": [],
   "source": [
    "# model = Word2Vec(X_words, size=100, window=5, min_count=5, workers=2)\n",
    "# w2v = {w: vec for w, vec in zip(model.wv.index2word, model.wv.syn0)}"
   ]
  },
  {
   "cell_type": "markdown",
   "metadata": {},
   "source": [
    "# Benchmark Modeling"
   ]
  },
  {
   "cell_type": "markdown",
   "metadata": {},
   "source": [
    "I will now benchmark a number of different models (without fitting to training data) to get a sense of which models perform best before choosing one to further tune parameters."
   ]
  },
  {
   "cell_type": "code",
   "execution_count": 16,
   "metadata": {
    "collapsed": true
   },
   "outputs": [],
   "source": [
    "X_train, X_test, y_train, y_test = train_test_split(X,\n",
    "                                                    y,\n",
    "                                                    test_size=0.25,\n",
    "                                                    random_state=42)"
   ]
  },
  {
   "cell_type": "markdown",
   "metadata": {},
   "source": [
    "### Export X_train and X_test"
   ]
  },
  {
   "cell_type": "code",
   "execution_count": 17,
   "metadata": {
    "collapsed": true
   },
   "outputs": [],
   "source": [
    "with open('../Data/X_train.pkl', 'wb') as f:\n",
    "    pickle.dump(X_train, f)\n",
    "    \n",
    "with open('../Data/X_test.pkl', 'wb') as f:\n",
    "    pickle.dump(X_test, f)"
   ]
  },
  {
   "cell_type": "markdown",
   "metadata": {},
   "source": [
    "### Export y_train and y_test"
   ]
  },
  {
   "cell_type": "code",
   "execution_count": 18,
   "metadata": {
    "collapsed": true
   },
   "outputs": [],
   "source": [
    "with open('../Data/y_train.pkl', 'wb') as f:\n",
    "    pickle.dump(y_train, f)\n",
    "    \n",
    "with open('../Data/y_test.pkl', 'wb') as f:\n",
    "    pickle.dump(y_test, f)"
   ]
  },
  {
   "cell_type": "markdown",
   "metadata": {},
   "source": [
    "I will first run a number of simple classifiers with either pure counts or tfidf features."
   ]
  },
  {
   "cell_type": "code",
   "execution_count": 19,
   "metadata": {
    "collapsed": true
   },
   "outputs": [],
   "source": [
    "bern_nb = Pipeline([(\"count_vectorizer\", CountVectorizer()),\n",
    "                    (\"bernoulli nb\", BernoulliNB())])\n",
    "lr = Pipeline([(\"count_vectorizer\", CountVectorizer()),\n",
    "                (\"lr\", LogisticRegression())])\n",
    "rf = Pipeline([(\"count_vectorizer\", CountVectorizer()),\n",
    "                (\"rf\", RandomForestClassifier(n_estimators=200))])\n",
    "\n",
    "et = Pipeline([(\"count_vectorizer\", CountVectorizer()),\n",
    "                (\"et\", ExtraTreesClassifier(n_estimators=200))])\n",
    "\n",
    "gb = Pipeline([(\"count_vectorizer\", CountVectorizer()),\n",
    "                (\"gb\", GradientBoostingClassifier(n_estimators=200))])\n",
    "\n",
    "bern_nb_tfidf = Pipeline([(\"tfidf_vectorizer\", TfidfVectorizer()),\n",
    "                          (\"bernoulli nb\", BernoulliNB())])\n",
    "lr_tfidf = Pipeline([(\"tfidf_vectorizer\", TfidfVectorizer()),\n",
    "                      (\"lr\", LogisticRegression())])\n",
    "rf_tfidf = Pipeline([(\"tfidf_vectorizer\", TfidfVectorizer()),\n",
    "                (\"rf\", RandomForestClassifier(n_estimators=200))])\n",
    "et_tfidf = Pipeline([(\"tfidf_vectorizer\", TfidfVectorizer()),\n",
    "                (\"et\", ExtraTreesClassifier(n_estimators=200))])\n",
    "gb_tfidf = Pipeline([(\"tfidf_vectorizer\", TfidfVectorizer()),\n",
    "                (\"gb\", GradientBoostingClassifier(n_estimators=200))])"
   ]
  },
  {
   "cell_type": "markdown",
   "metadata": {},
   "source": [
    "The following two classes act as a method by which to build features. They do this by averaging word vectors for all words in a text and they contain a transformer that is initialized with a word to vector dictionary.  The first class takes an average of all of the word vectors.  The second class does the same, but also incroporates a term frequency inverse term document frequency vectorizer, so the words will be weighted differently as opposed to just a simple average."
   ]
  },
  {
   "cell_type": "code",
   "execution_count": 20,
   "metadata": {
    "collapsed": true
   },
   "outputs": [],
   "source": [
    "class MeanEmbeddingVectorizer(object):\n",
    "    def __init__(self, word2vec):\n",
    "        self.word2vec = word2vec\n",
    "        if len(word2vec)>0:\n",
    "            self.dim=len(word2vec[next(iter(glove))])\n",
    "        else:\n",
    "            self.dim=0\n",
    "            \n",
    "    def fit(self, X_train, y_train):\n",
    "        return self \n",
    "\n",
    "    def transform(self, X_train):\n",
    "        X_train = [y.split() for y in X_train]\n",
    "        return np.array([\n",
    "            np.mean([self.word2vec[w] for w in words if w in self.word2vec] \n",
    "                    or [np.zeros(self.dim)], axis=0)\n",
    "            for words in X_train\n",
    "        ])"
   ]
  },
  {
   "cell_type": "code",
   "execution_count": 21,
   "metadata": {
    "collapsed": true
   },
   "outputs": [],
   "source": [
    "class TfidfEmbeddingVectorizer(object):\n",
    "    def __init__(self, word2vec):\n",
    "        self.word2vec = word2vec\n",
    "        self.word2weight = None\n",
    "        if len(word2vec)>0:\n",
    "            self.dim=len(word2vec[next(iter(glove))])\n",
    "        else:\n",
    "            self.dim=0\n",
    "        \n",
    "    def fit(self, X_train, y_train):\n",
    "        X_train = [y.split() for y in X_train]\n",
    "        tfidf = TfidfVectorizer(analyzer=lambda x: x)\n",
    "        tfidf.fit(X_train)\n",
    "        # if a word was never seen - it must be at least as infrequent\n",
    "        # as any of the known words - so the default idf is the max of \n",
    "        # known idf's\n",
    "        max_idf = max(tfidf.idf_)\n",
    "        self.word2weight = defaultdict(\n",
    "            lambda: max_idf, \n",
    "            [(w, tfidf.idf_[i]) for w, i in tfidf.vocabulary_.items()])\n",
    "    \n",
    "        return self\n",
    "    \n",
    "    def transform(self, X_train):\n",
    "        X_train = [y.split() for y in X_train]\n",
    "        return np.array([\n",
    "                np.mean([self.word2vec[w] * self.word2weight[w]\n",
    "                         for w in words if w in self.word2vec] or\n",
    "                        [np.zeros(self.dim)], axis=0)\n",
    "                for words in X_train\n",
    "            ])"
   ]
  },
  {
   "cell_type": "code",
   "execution_count": 22,
   "metadata": {
    "collapsed": true
   },
   "outputs": [],
   "source": [
    "bern_nb_glove = Pipeline([(\"glove vectorizer\", MeanEmbeddingVectorizer(glove)), \n",
    "                          (\"bernoulli nb\", BernoulliNB())])\n",
    "lr_glove = Pipeline([(\"glove vectorizer\", MeanEmbeddingVectorizer(glove)), \n",
    "                      (\"lr\", LogisticRegression())])\n",
    "rf_glove = Pipeline([(\"glove vectorizer\", MeanEmbeddingVectorizer(glove)), \n",
    "                     (\"random forest\", RandomForestClassifier(n_estimators=200))])\n",
    "et_glove = Pipeline([(\"glove vectorizer\", MeanEmbeddingVectorizer(glove)), \n",
    "                     (\"extra trees\", ExtraTreesClassifier(n_estimators=200))])\n",
    "gb_glove = Pipeline([(\"glove vectorizer\", MeanEmbeddingVectorizer(glove)),\n",
    "                     (\"gb\", GradientBoostingClassifier())])\n",
    "\n",
    "## Add NN it to the pipline "
   ]
  },
  {
   "cell_type": "markdown",
   "metadata": {},
   "source": [
    "### Benchmark Scores"
   ]
  },
  {
   "cell_type": "code",
   "execution_count": 23,
   "metadata": {
    "scrolled": false
   },
   "outputs": [
    {
     "name": "stdout",
     "output_type": "stream",
     "text": [
      "            model     score\n",
      "0        lr_tfidf  0.874666\n",
      "1              lr  0.866207\n",
      "2              et  0.860639\n",
      "3        et_tfidf  0.856302\n",
      "4         bern_nb  0.848806\n",
      "5   bern_nb_tfidf  0.848806\n",
      "6              rf  0.843828\n",
      "7        rf_tfidf  0.837296\n",
      "8        lr_glove  0.833976\n",
      "9              gb  0.831727\n",
      "10       gb_tfidf  0.827604\n",
      "11       gb_glove  0.801532\n",
      "12       rf_glove  0.784346\n",
      "13       et_glove  0.779206\n",
      "14  bern_nb_glove  0.699112\n",
      "CPU times: user 10min 35s, sys: 5.78 s, total: 10min 41s\n",
      "Wall time: 10min 48s\n"
     ]
    }
   ],
   "source": [
    "%%time\n",
    "\n",
    "all_models = [\n",
    "    (\"bern_nb\", bern_nb),\n",
    "    (\"lr\", lr),\n",
    "    (\"rf\", rf),\n",
    "    (\"et\", et),\n",
    "    (\"gb\", gb),\n",
    "    \n",
    "    (\"bern_nb_tfidf\", bern_nb_tfidf),\n",
    "    (\"lr_tfidf\", lr_tfidf),\n",
    "    (\"rf_tfidf\", rf_tfidf),\n",
    "    (\"et_tfidf\", et_tfidf),\n",
    "    (\"gb_tfidf\", gb_tfidf),\n",
    "    \n",
    "   (\"bern_nb_glove\", bern_nb_glove),\n",
    "    (\"lr_glove\", lr_glove),\n",
    "    (\"rf_glove\", rf_glove),\n",
    "    (\"et_glove\", et_glove),\n",
    "   (\"gb_glove\", gb_glove)\n",
    "]\n",
    "\n",
    "unsorted_scores = [(name, cross_val_score(model, X_train, y_train, cv=2).mean()) for name, model in all_models]\n",
    "scores = sorted(unsorted_scores, key=lambda x: -x[1])  \n",
    "benchmark_df = pd.DataFrame(scores, columns=['model', 'score'])\n",
    "print(benchmark_df)"
   ]
  },
  {
   "cell_type": "markdown",
   "metadata": {},
   "source": [
    "### Plot Benchmarks"
   ]
  },
  {
   "cell_type": "code",
   "execution_count": 26,
   "metadata": {
    "scrolled": false
   },
   "outputs": [
    {
     "data": {
      "image/png": "[encoded data removed]",
      "text/plain": [
       "<Figure size 720x360 with 1 Axes>"
      ]
     },
     "metadata": {},
     "output_type": "display_data"
    }
   ],
   "source": [
    "plt.figure(figsize=(10, 5))\n",
    "sns.barplot(x= benchmark_df['model'], y= benchmark_df['score'], color='blue')\n",
    "\n",
    "plt.xticks(rotation = 60);"
   ]
  },
  {
   "cell_type": "markdown",
   "metadata": {},
   "source": [
    "# Modeling with TFIDF"
   ]
  },
  {
   "cell_type": "markdown",
   "metadata": {},
   "source": [
    "Seeing as the logistic regression model with a tfidf vectorizer benchmark scored the best I will go ahead and try to tune some of the parameters."
   ]
  },
  {
   "cell_type": "code",
   "execution_count": 27,
   "metadata": {},
   "outputs": [
    {
     "name": "stdout",
     "output_type": "stream",
     "text": [
      "CPU times: user 16.3 s, sys: 308 ms, total: 16.6 s\n",
      "Wall time: 16.5 s\n"
     ]
    }
   ],
   "source": [
    "%%time\n",
    "\n",
    "np.random.seed(41)\n",
    "\n",
    "pipe = Pipeline([\n",
    "    ('tfidf', TfidfVectorizer(stop_words = stop_word_list)),\n",
    "    ('lr', LogisticRegression())\n",
    "])\n",
    "\n",
    "params = {\n",
    "    'tfidf__max_df': [0.7],\n",
    "    'tfidf__min_df': [2]\n",
    "}\n",
    "\n",
    "gs_tfidf = GridSearchCV(pipe, param_grid = params)\n",
    "gs_tfidf.fit(X_train, y_train);"
   ]
  },
  {
   "cell_type": "code",
   "execution_count": 28,
   "metadata": {},
   "outputs": [
    {
     "data": {
      "text/plain": [
       "0.8798051183210194"
      ]
     },
     "execution_count": 28,
     "metadata": {},
     "output_type": "execute_result"
    }
   ],
   "source": [
    "gs_tfidf.best_score_"
   ]
  },
  {
   "cell_type": "code",
   "execution_count": 29,
   "metadata": {},
   "outputs": [
    {
     "data": {
      "text/plain": [
       "(0.9377342327872363, 0.8882107292001284)"
      ]
     },
     "execution_count": 29,
     "metadata": {},
     "output_type": "execute_result"
    }
   ],
   "source": [
    "gs_tfidf.score(X_train, y_train), gs_tfidf.score(X_test, y_test)"
   ]
  },
  {
   "cell_type": "code",
   "execution_count": 30,
   "metadata": {},
   "outputs": [
    {
     "data": {
      "text/plain": [
       "{'tfidf__max_df': 0.7, 'tfidf__min_df': 2}"
      ]
     },
     "execution_count": 30,
     "metadata": {},
     "output_type": "execute_result"
    }
   ],
   "source": [
    "gs_tfidf.best_params_"
   ]
  },
  {
   "cell_type": "markdown",
   "metadata": {},
   "source": [
    "### Export TFIDF"
   ]
  },
  {
   "cell_type": "code",
   "execution_count": 167,
   "metadata": {
    "collapsed": true
   },
   "outputs": [],
   "source": [
    "with open('../Data/tfidf.pkl', 'wb+') as f:\n",
    "    pickle.dump(gs_tfidf, f)"
   ]
  },
  {
   "cell_type": "markdown",
   "metadata": {},
   "source": [
    "### Confusion matrix for TFIDF"
   ]
  },
  {
   "cell_type": "code",
   "execution_count": 61,
   "metadata": {
    "collapsed": true
   },
   "outputs": [],
   "source": [
    "y_pred = gs_tfidf.best_estimator_.predict(X_test)"
   ]
  },
  {
   "cell_type": "code",
   "execution_count": 62,
   "metadata": {},
   "outputs": [
    {
     "data": {
      "text/plain": [
       "array([[2703,  410],\n",
       "       [ 286, 2827]])"
      ]
     },
     "execution_count": 62,
     "metadata": {},
     "output_type": "execute_result"
    }
   ],
   "source": [
    "confusion_matrix(y_test, y_pred)"
   ]
  },
  {
   "cell_type": "code",
   "execution_count": 65,
   "metadata": {
    "scrolled": false
   },
   "outputs": [
    {
     "name": "stdout",
     "output_type": "stream",
     "text": [
      "True Negatives: 2703\n",
      "False Positives: 410\n",
      "False Negatives: 286\n",
      "True Positives: 2827\n",
      "             precision    recall  f1-score   support\n",
      "\n",
      "          0       0.90      0.87      0.89      3113\n",
      "          1       0.87      0.91      0.89      3113\n",
      "\n",
      "avg / total       0.89      0.89      0.89      6226\n",
      "\n"
     ]
    },
    {
     "data": {
      "image/png": "[encoded data removed]",
      "text/plain": [
       "<Figure size 432x288 with 2 Axes>"
      ]
     },
     "metadata": {},
     "output_type": "display_data"
    }
   ],
   "source": [
    "sns.set(font_scale=1.4)\n",
    "sns.heatmap(confusion_matrix(y_test, y_pred), annot=True, fmt='g',\n",
    "           yticklabels = ['Neg. Actual', 'Pos. Actual'],\n",
    "           xticklabels = ['Neg. Guess', 'Pos. Guess'],\n",
    "           annot_kws={\"size\": 16},)\n",
    "\n",
    "tn, fp, fn, tp = confusion_matrix(y_test, y_pred).ravel()\n",
    "print(\"True Negatives: %s\" % tn)\n",
    "print(\"False Positives: %s\" % fp)\n",
    "print(\"False Negatives: %s\" % fn)\n",
    "print(\"True Positives: %s\" % tp)\n",
    "print(classification_report(y_test,y_pred))"
   ]
  },
  {
   "cell_type": "markdown",
   "metadata": {},
   "source": [
    "### EDA with TFIDF"
   ]
  },
  {
   "cell_type": "code",
   "execution_count": 32,
   "metadata": {},
   "outputs": [
    {
     "data": {
      "text/plain": [
       "38989"
      ]
     },
     "execution_count": 32,
     "metadata": {},
     "output_type": "execute_result"
    }
   ],
   "source": [
    "tfidf_features = pd.DataFrame(data=gs_tfidf.best_estimator_.named_steps.tfidf.transform(X_test).toarray(),\n",
    "             columns=gs_tfidf.best_estimator_.named_steps.tfidf.get_feature_names())\n",
    "len(tfidf_features.columns)"
   ]
  },
  {
   "cell_type": "code",
   "execution_count": 33,
   "metadata": {
    "collapsed": true
   },
   "outputs": [],
   "source": [
    "tfidf_features.insert(0, 'Sentiment', y_test)"
   ]
  },
  {
   "cell_type": "code",
   "execution_count": 34,
   "metadata": {
    "collapsed": true
   },
   "outputs": [],
   "source": [
    "tfidf_positive_top_20 = tfidf_features.groupby('Sentiment').sum().T.sort_values(1, ascending=False).head(20)\n",
    "tfidf_negative_top_20 = tfidf_features.groupby('Sentiment').sum().T.sort_values(0, ascending=False).head(20)\n",
    "\n",
    "#mean of sentiment - words that show up more frequently might get unfair advantage."
   ]
  },
  {
   "cell_type": "code",
   "execution_count": 35,
   "metadata": {
    "collapsed": true
   },
   "outputs": [],
   "source": [
    "top_20_pos = pd.DataFrame(tfidf_positive_top_20)\n",
    "top_20_pos.rename(columns={0: 'negative', 1: 'positive'}, inplace=True)"
   ]
  },
  {
   "cell_type": "code",
   "execution_count": 36,
   "metadata": {},
   "outputs": [
    {
     "data": {
      "image/png": "[encoded data removed]",
      "text/plain": [
       "<Figure size 1080x432 with 2 Axes>"
      ]
     },
     "metadata": {},
     "output_type": "display_data"
    }
   ],
   "source": [
    "x = range(20)\n",
    "fig = plt.figure(figsize=(15,6))\n",
    "\n",
    "fig.add_subplot(121)\n",
    "\n",
    "plt.barh(x, tfidf_positive_top_20[1][::-1])\n",
    "plt.yticks(x[::-1], tfidf_positive_top_20.index, rotation=0, fontsize=13)\n",
    "plt.title('Top 20 Words in Positive Reviews')\n",
    "plt.xlabel('Overall Weight')\n",
    "\n",
    "fig.add_subplot(122)\n",
    "\n",
    "plt.barh(x, tfidf_negative_top_20[0][::-1])\n",
    "plt.yticks(x[::-1], tfidf_negative_top_20.index, rotation=0, fontsize=13)\n",
    "plt.title('Top 20 Words in Negative Reviews')\n",
    "plt.xlabel('Overall Weight');\n",
    "\n",
    "# list of words (word map)"
   ]
  }
 ],
 "metadata": {
  "kernelspec": {
   "display_name": "Python 3",
   "language": "python",
   "name": "python3"
  },
  "language_info": {
   "codemirror_mode": {
    "name": "ipython",
    "version": 3
   },
   "file_extension": ".py",
   "mimetype": "text/x-python",
   "name": "python",
   "nbconvert_exporter": "python",
   "pygments_lexer": "ipython3",
   "version": "3.6.6"
  }
 },
 "nbformat": 4,
 "nbformat_minor": 2
}
